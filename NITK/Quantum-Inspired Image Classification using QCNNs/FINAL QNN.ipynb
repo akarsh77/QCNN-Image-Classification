{
  "cells": [
    {
      "cell_type": "markdown",
      "source": "# Fully Connected QNN VS CNN",
      "metadata": {
        "tags": [],
        "is_collapsed": false,
        "formattedRanges": [],
        "cell_id": "3ca63cfa2a814244962b1608196bbda5",
        "deepnote_cell_type": "text-cell-h1"
      },
      "block_group": "489db757d6c4408c92888004d3603ddb"
    },
    {
      "cell_type": "code",
      "source": "!pip3 install --upgrade pip\n!pip3 install tensorflow==2.7.0\n!pip3 install -U tensorflow-quantum \n!pip3 install seaborn matplotlib\n\n!pip3 install googleapis-common-protos==1.52.0 google-api-core==1.21.0 google-auth==1.18.0 google-api-python-client==1.8.0 grpcio==1.34.1 protobuf==3.17.3",
      "metadata": {
        "source_hash": null,
        "execution_start": 1692718842189,
        "execution_millis": 23722,
        "deepnote_to_be_reexecuted": false,
        "cell_id": "bfd05610792643d486b3c1316f8a747c",
        "deepnote_cell_type": "code"
      },
      "outputs": [
        {
          "name": "stdout",
          "text": "Requirement already satisfied: pip in /root/venv/lib/python3.8/site-packages (23.2.1)\nRequirement already satisfied: tensorflow==2.7.0 in /root/venv/lib/python3.8/site-packages (2.7.0)\nRequirement already satisfied: numpy>=1.14.5 in /shared-libs/python3.8/py/lib/python3.8/site-packages (from tensorflow==2.7.0) (1.23.4)\nRequirement already satisfied: absl-py>=0.4.0 in /shared-libs/python3.8/py/lib/python3.8/site-packages (from tensorflow==2.7.0) (1.3.0)\nRequirement already satisfied: astunparse>=1.6.0 in /shared-libs/python3.8/py/lib/python3.8/site-packages (from tensorflow==2.7.0) (1.6.3)\nRequirement already satisfied: libclang>=9.0.1 in /shared-libs/python3.8/py/lib/python3.8/site-packages (from tensorflow==2.7.0) (14.0.6)\nRequirement already satisfied: flatbuffers<3.0,>=1.12 in /root/venv/lib/python3.8/site-packages (from tensorflow==2.7.0) (2.0.7)\nRequirement already satisfied: google-pasta>=0.1.1 in /shared-libs/python3.8/py/lib/python3.8/site-packages (from tensorflow==2.7.0) (0.2.0)\nRequirement already satisfied: h5py>=2.9.0 in /shared-libs/python3.8/py/lib/python3.8/site-packages (from tensorflow==2.7.0) (3.7.0)\nRequirement already satisfied: keras-preprocessing>=1.1.1 in /shared-libs/python3.8/py/lib/python3.8/site-packages (from tensorflow==2.7.0) (1.1.2)\nRequirement already satisfied: opt-einsum>=2.3.2 in /shared-libs/python3.8/py/lib/python3.8/site-packages (from tensorflow==2.7.0) (3.3.0)\nRequirement already satisfied: protobuf>=3.9.2 in /root/venv/lib/python3.8/site-packages (from tensorflow==2.7.0) (3.17.3)\nRequirement already satisfied: six>=1.12.0 in /shared-libs/python3.8/py-core/lib/python3.8/site-packages (from tensorflow==2.7.0) (1.16.0)\nRequirement already satisfied: termcolor>=1.1.0 in /shared-libs/python3.8/py/lib/python3.8/site-packages (from tensorflow==2.7.0) (2.0.1)\nRequirement already satisfied: typing-extensions>=3.6.6 in /shared-libs/python3.8/py/lib/python3.8/site-packages (from tensorflow==2.7.0) (4.4.0)\nRequirement already satisfied: wheel<1.0,>=0.32.0 in /usr/local/lib/python3.8/site-packages (from tensorflow==2.7.0) (0.40.0)\nRequirement already satisfied: wrapt>=1.11.0 in /shared-libs/python3.8/py/lib/python3.8/site-packages (from tensorflow==2.7.0) (1.14.1)\nRequirement already satisfied: gast<0.5.0,>=0.2.1 in /shared-libs/python3.8/py/lib/python3.8/site-packages (from tensorflow==2.7.0) (0.4.0)\nRequirement already satisfied: tensorboard~=2.6 in /shared-libs/python3.8/py/lib/python3.8/site-packages (from tensorflow==2.7.0) (2.10.1)\nRequirement already satisfied: tensorflow-estimator<2.8,~=2.7.0rc0 in /root/venv/lib/python3.8/site-packages (from tensorflow==2.7.0) (2.7.0)\nRequirement already satisfied: keras<2.8,>=2.7.0rc0 in /root/venv/lib/python3.8/site-packages (from tensorflow==2.7.0) (2.7.0)\nRequirement already satisfied: tensorflow-io-gcs-filesystem>=0.21.0 in /shared-libs/python3.8/py/lib/python3.8/site-packages (from tensorflow==2.7.0) (0.27.0)\nRequirement already satisfied: grpcio<2.0,>=1.24.3 in /root/venv/lib/python3.8/site-packages (from tensorflow==2.7.0) (1.34.1)\nRequirement already satisfied: google-auth<3,>=1.6.3 in /root/venv/lib/python3.8/site-packages (from tensorboard~=2.6->tensorflow==2.7.0) (1.18.0)\nRequirement already satisfied: google-auth-oauthlib<0.5,>=0.4.1 in /shared-libs/python3.8/py/lib/python3.8/site-packages (from tensorboard~=2.6->tensorflow==2.7.0) (0.4.6)\nRequirement already satisfied: markdown>=2.6.8 in /shared-libs/python3.8/py/lib/python3.8/site-packages (from tensorboard~=2.6->tensorflow==2.7.0) (3.4.1)\nRequirement already satisfied: requests<3,>=2.21.0 in /shared-libs/python3.8/py/lib/python3.8/site-packages (from tensorboard~=2.6->tensorflow==2.7.0) (2.28.1)\nRequirement already satisfied: setuptools>=41.0.0 in /root/venv/lib/python3.8/site-packages (from tensorboard~=2.6->tensorflow==2.7.0) (56.0.0)\nRequirement already satisfied: tensorboard-data-server<0.7.0,>=0.6.0 in /shared-libs/python3.8/py/lib/python3.8/site-packages (from tensorboard~=2.6->tensorflow==2.7.0) (0.6.1)\nRequirement already satisfied: tensorboard-plugin-wit>=1.6.0 in /shared-libs/python3.8/py/lib/python3.8/site-packages (from tensorboard~=2.6->tensorflow==2.7.0) (1.8.1)\nRequirement already satisfied: werkzeug>=1.0.1 in /shared-libs/python3.8/py/lib/python3.8/site-packages (from tensorboard~=2.6->tensorflow==2.7.0) (2.2.2)\nRequirement already satisfied: cachetools<5.0,>=2.0.0 in /root/venv/lib/python3.8/site-packages (from google-auth<3,>=1.6.3->tensorboard~=2.6->tensorflow==2.7.0) (4.2.4)\nRequirement already satisfied: pyasn1-modules>=0.2.1 in /shared-libs/python3.8/py/lib/python3.8/site-packages (from google-auth<3,>=1.6.3->tensorboard~=2.6->tensorflow==2.7.0) (0.2.8)\nRequirement already satisfied: rsa<5,>=3.1.4 in /shared-libs/python3.8/py/lib/python3.8/site-packages (from google-auth<3,>=1.6.3->tensorboard~=2.6->tensorflow==2.7.0) (4.9)\nRequirement already satisfied: requests-oauthlib>=0.7.0 in /shared-libs/python3.8/py/lib/python3.8/site-packages (from google-auth-oauthlib<0.5,>=0.4.1->tensorboard~=2.6->tensorflow==2.7.0) (1.3.1)\nRequirement already satisfied: importlib-metadata>=4.4 in /shared-libs/python3.8/py/lib/python3.8/site-packages (from markdown>=2.6.8->tensorboard~=2.6->tensorflow==2.7.0) (5.0.0)\nRequirement already satisfied: charset-normalizer<3,>=2 in /shared-libs/python3.8/py-core/lib/python3.8/site-packages (from requests<3,>=2.21.0->tensorboard~=2.6->tensorflow==2.7.0) (2.1.1)\nRequirement already satisfied: idna<4,>=2.5 in /shared-libs/python3.8/py-core/lib/python3.8/site-packages (from requests<3,>=2.21.0->tensorboard~=2.6->tensorflow==2.7.0) (3.4)\nRequirement already satisfied: urllib3<1.27,>=1.21.1 in /shared-libs/python3.8/py/lib/python3.8/site-packages (from requests<3,>=2.21.0->tensorboard~=2.6->tensorflow==2.7.0) (1.26.12)\nRequirement already satisfied: certifi>=2017.4.17 in /shared-libs/python3.8/py/lib/python3.8/site-packages (from requests<3,>=2.21.0->tensorboard~=2.6->tensorflow==2.7.0) (2022.9.24)\nCollecting MarkupSafe>=2.1.1 (from werkzeug>=1.0.1->tensorboard~=2.6->tensorflow==2.7.0)\n  Obtaining dependency information for MarkupSafe>=2.1.1 from https://files.pythonhosted.org/packages/de/e2/32c14301bb023986dff527a49325b6259cab4ebb4633f69de54af312fc45/MarkupSafe-2.1.3-cp38-cp38-manylinux_2_17_x86_64.manylinux2014_x86_64.whl.metadata\n  Using cached MarkupSafe-2.1.3-cp38-cp38-manylinux_2_17_x86_64.manylinux2014_x86_64.whl.metadata (3.0 kB)\nRequirement already satisfied: zipp>=0.5 in /shared-libs/python3.8/py/lib/python3.8/site-packages (from importlib-metadata>=4.4->markdown>=2.6.8->tensorboard~=2.6->tensorflow==2.7.0) (3.9.0)\nRequirement already satisfied: pyasn1<0.5.0,>=0.4.6 in /shared-libs/python3.8/py/lib/python3.8/site-packages (from pyasn1-modules>=0.2.1->google-auth<3,>=1.6.3->tensorboard~=2.6->tensorflow==2.7.0) (0.4.8)\nRequirement already satisfied: oauthlib>=3.0.0 in /shared-libs/python3.8/py/lib/python3.8/site-packages (from requests-oauthlib>=0.7.0->google-auth-oauthlib<0.5,>=0.4.1->tensorboard~=2.6->tensorflow==2.7.0) (3.2.2)\nUsing cached MarkupSafe-2.1.3-cp38-cp38-manylinux_2_17_x86_64.manylinux2014_x86_64.whl (25 kB)\nInstalling collected packages: MarkupSafe\n  Attempting uninstall: MarkupSafe\n    Found existing installation: MarkupSafe 2.0.0\n    Not uninstalling markupsafe at /shared-libs/python3.8/py-core/lib/python3.8/site-packages, outside environment /root/venv\n    Can't uninstall 'MarkupSafe'. No files were found to uninstall.\nSuccessfully installed MarkupSafe-2.1.3\nRequirement already satisfied: tensorflow-quantum in /root/venv/lib/python3.8/site-packages (0.7.2)\nRequirement already satisfied: cirq-core==0.13.1 in /root/venv/lib/python3.8/site-packages (from tensorflow-quantum) (0.13.1)\nRequirement already satisfied: cirq-google>=0.13.1 in /root/venv/lib/python3.8/site-packages (from tensorflow-quantum) (0.13.1)\nRequirement already satisfied: sympy==1.8 in /root/venv/lib/python3.8/site-packages (from tensorflow-quantum) (1.8)\nRequirement already satisfied: googleapis-common-protos==1.52.0 in /root/venv/lib/python3.8/site-packages (from tensorflow-quantum) (1.52.0)\nRequirement already satisfied: google-api-core==1.21.0 in /root/venv/lib/python3.8/site-packages (from tensorflow-quantum) (1.21.0)\nRequirement already satisfied: google-auth==1.18.0 in /root/venv/lib/python3.8/site-packages (from tensorflow-quantum) (1.18.0)\nRequirement already satisfied: protobuf==3.17.3 in /root/venv/lib/python3.8/site-packages (from tensorflow-quantum) (3.17.3)\nRequirement already satisfied: duet~=0.2.0 in /root/venv/lib/python3.8/site-packages (from cirq-core==0.13.1->tensorflow-quantum) (0.2.8)\nRequirement already satisfied: matplotlib~=3.0 in /shared-libs/python3.8/py/lib/python3.8/site-packages (from cirq-core==0.13.1->tensorflow-quantum) (3.6.0)\nRequirement already satisfied: networkx~=2.4 in /root/venv/lib/python3.8/site-packages (from cirq-core==0.13.1->tensorflow-quantum) (2.8.8)\nRequirement already satisfied: numpy~=1.16 in /shared-libs/python3.8/py/lib/python3.8/site-packages (from cirq-core==0.13.1->tensorflow-quantum) (1.23.4)\nRequirement already satisfied: pandas in /shared-libs/python3.8/py/lib/python3.8/site-packages (from cirq-core==0.13.1->tensorflow-quantum) (1.2.5)\nRequirement already satisfied: scipy in /shared-libs/python3.8/py/lib/python3.8/site-packages (from cirq-core==0.13.1->tensorflow-quantum) (1.9.3)\nRequirement already satisfied: sortedcontainers~=2.0 in /root/venv/lib/python3.8/site-packages (from cirq-core==0.13.1->tensorflow-quantum) (2.4.0)\nRequirement already satisfied: tqdm in /shared-libs/python3.8/py/lib/python3.8/site-packages (from cirq-core==0.13.1->tensorflow-quantum) (4.64.1)\nRequirement already satisfied: typing-extensions in /shared-libs/python3.8/py/lib/python3.8/site-packages (from cirq-core==0.13.1->tensorflow-quantum) (4.4.0)\nRequirement already satisfied: requests<3.0.0dev,>=2.18.0 in /shared-libs/python3.8/py/lib/python3.8/site-packages (from google-api-core==1.21.0->tensorflow-quantum) (2.28.1)\nRequirement already satisfied: setuptools>=34.0.0 in /root/venv/lib/python3.8/site-packages (from google-api-core==1.21.0->tensorflow-quantum) (56.0.0)\nRequirement already satisfied: six>=1.10.0 in /shared-libs/python3.8/py-core/lib/python3.8/site-packages (from google-api-core==1.21.0->tensorflow-quantum) (1.16.0)\nRequirement already satisfied: pytz in /shared-libs/python3.8/py/lib/python3.8/site-packages (from google-api-core==1.21.0->tensorflow-quantum) (2022.5)\nRequirement already satisfied: cachetools<5.0,>=2.0.0 in /root/venv/lib/python3.8/site-packages (from google-auth==1.18.0->tensorflow-quantum) (4.2.4)\nRequirement already satisfied: pyasn1-modules>=0.2.1 in /shared-libs/python3.8/py/lib/python3.8/site-packages (from google-auth==1.18.0->tensorflow-quantum) (0.2.8)\nRequirement already satisfied: rsa<5,>=3.1.4 in /shared-libs/python3.8/py/lib/python3.8/site-packages (from google-auth==1.18.0->tensorflow-quantum) (4.9)\nRequirement already satisfied: mpmath>=0.19 in /shared-libs/python3.8/py/lib/python3.8/site-packages (from sympy==1.8->tensorflow-quantum) (1.2.1)\nRequirement already satisfied: grpcio<2.0dev,>=1.29.0 in /root/venv/lib/python3.8/site-packages (from google-api-core==1.21.0->tensorflow-quantum) (1.34.1)\nRequirement already satisfied: contourpy>=1.0.1 in /shared-libs/python3.8/py/lib/python3.8/site-packages (from matplotlib~=3.0->cirq-core==0.13.1->tensorflow-quantum) (1.0.5)\nRequirement already satisfied: cycler>=0.10 in /shared-libs/python3.8/py/lib/python3.8/site-packages (from matplotlib~=3.0->cirq-core==0.13.1->tensorflow-quantum) (0.11.0)\nRequirement already satisfied: fonttools>=4.22.0 in /shared-libs/python3.8/py/lib/python3.8/site-packages (from matplotlib~=3.0->cirq-core==0.13.1->tensorflow-quantum) (4.37.4)\nRequirement already satisfied: kiwisolver>=1.0.1 in /shared-libs/python3.8/py/lib/python3.8/site-packages (from matplotlib~=3.0->cirq-core==0.13.1->tensorflow-quantum) (1.4.4)\nRequirement already satisfied: packaging>=20.0 in /shared-libs/python3.8/py-core/lib/python3.8/site-packages (from matplotlib~=3.0->cirq-core==0.13.1->tensorflow-quantum) (21.3)\nRequirement already satisfied: pillow>=6.2.0 in /shared-libs/python3.8/py/lib/python3.8/site-packages (from matplotlib~=3.0->cirq-core==0.13.1->tensorflow-quantum) (9.2.0)\nRequirement already satisfied: pyparsing>=2.2.1 in /shared-libs/python3.8/py-core/lib/python3.8/site-packages (from matplotlib~=3.0->cirq-core==0.13.1->tensorflow-quantum) (3.0.9)\nRequirement already satisfied: python-dateutil>=2.7 in /shared-libs/python3.8/py-core/lib/python3.8/site-packages (from matplotlib~=3.0->cirq-core==0.13.1->tensorflow-quantum) (2.8.2)\nRequirement already satisfied: pyasn1<0.5.0,>=0.4.6 in /shared-libs/python3.8/py/lib/python3.8/site-packages (from pyasn1-modules>=0.2.1->google-auth==1.18.0->tensorflow-quantum) (0.4.8)\nRequirement already satisfied: charset-normalizer<3,>=2 in /shared-libs/python3.8/py-core/lib/python3.8/site-packages (from requests<3.0.0dev,>=2.18.0->google-api-core==1.21.0->tensorflow-quantum) (2.1.1)\nRequirement already satisfied: idna<4,>=2.5 in /shared-libs/python3.8/py-core/lib/python3.8/site-packages (from requests<3.0.0dev,>=2.18.0->google-api-core==1.21.0->tensorflow-quantum) (3.4)\nRequirement already satisfied: urllib3<1.27,>=1.21.1 in /shared-libs/python3.8/py/lib/python3.8/site-packages (from requests<3.0.0dev,>=2.18.0->google-api-core==1.21.0->tensorflow-quantum) (1.26.12)\nRequirement already satisfied: certifi>=2017.4.17 in /shared-libs/python3.8/py/lib/python3.8/site-packages (from requests<3.0.0dev,>=2.18.0->google-api-core==1.21.0->tensorflow-quantum) (2022.9.24)\nRequirement already satisfied: seaborn in /shared-libs/python3.8/py/lib/python3.8/site-packages (0.12.1)\nRequirement already satisfied: matplotlib in /shared-libs/python3.8/py/lib/python3.8/site-packages (3.6.0)\nRequirement already satisfied: numpy>=1.17 in /shared-libs/python3.8/py/lib/python3.8/site-packages (from seaborn) (1.23.4)\nRequirement already satisfied: pandas>=0.25 in /shared-libs/python3.8/py/lib/python3.8/site-packages (from seaborn) (1.2.5)\nRequirement already satisfied: contourpy>=1.0.1 in /shared-libs/python3.8/py/lib/python3.8/site-packages (from matplotlib) (1.0.5)\nRequirement already satisfied: cycler>=0.10 in /shared-libs/python3.8/py/lib/python3.8/site-packages (from matplotlib) (0.11.0)\nRequirement already satisfied: fonttools>=4.22.0 in /shared-libs/python3.8/py/lib/python3.8/site-packages (from matplotlib) (4.37.4)\nRequirement already satisfied: kiwisolver>=1.0.1 in /shared-libs/python3.8/py/lib/python3.8/site-packages (from matplotlib) (1.4.4)\nRequirement already satisfied: packaging>=20.0 in /shared-libs/python3.8/py-core/lib/python3.8/site-packages (from matplotlib) (21.3)\nRequirement already satisfied: pillow>=6.2.0 in /shared-libs/python3.8/py/lib/python3.8/site-packages (from matplotlib) (9.2.0)\nRequirement already satisfied: pyparsing>=2.2.1 in /shared-libs/python3.8/py-core/lib/python3.8/site-packages (from matplotlib) (3.0.9)\nRequirement already satisfied: python-dateutil>=2.7 in /shared-libs/python3.8/py-core/lib/python3.8/site-packages (from matplotlib) (2.8.2)\nRequirement already satisfied: pytz>=2017.3 in /shared-libs/python3.8/py/lib/python3.8/site-packages (from pandas>=0.25->seaborn) (2022.5)\nRequirement already satisfied: six>=1.5 in /shared-libs/python3.8/py-core/lib/python3.8/site-packages (from python-dateutil>=2.7->matplotlib) (1.16.0)\nRequirement already satisfied: googleapis-common-protos==1.52.0 in /root/venv/lib/python3.8/site-packages (1.52.0)\nRequirement already satisfied: google-api-core==1.21.0 in /root/venv/lib/python3.8/site-packages (1.21.0)\nRequirement already satisfied: google-auth==1.18.0 in /root/venv/lib/python3.8/site-packages (1.18.0)\nRequirement already satisfied: google-api-python-client==1.8.0 in /root/venv/lib/python3.8/site-packages (1.8.0)\nRequirement already satisfied: grpcio==1.34.1 in /root/venv/lib/python3.8/site-packages (1.34.1)\nRequirement already satisfied: protobuf==3.17.3 in /root/venv/lib/python3.8/site-packages (3.17.3)\nRequirement already satisfied: requests<3.0.0dev,>=2.18.0 in /shared-libs/python3.8/py/lib/python3.8/site-packages (from google-api-core==1.21.0) (2.28.1)\nRequirement already satisfied: setuptools>=34.0.0 in /root/venv/lib/python3.8/site-packages (from google-api-core==1.21.0) (56.0.0)\nRequirement already satisfied: six>=1.10.0 in /shared-libs/python3.8/py-core/lib/python3.8/site-packages (from google-api-core==1.21.0) (1.16.0)\nRequirement already satisfied: pytz in /shared-libs/python3.8/py/lib/python3.8/site-packages (from google-api-core==1.21.0) (2022.5)\nRequirement already satisfied: cachetools<5.0,>=2.0.0 in /root/venv/lib/python3.8/site-packages (from google-auth==1.18.0) (4.2.4)\nRequirement already satisfied: pyasn1-modules>=0.2.1 in /shared-libs/python3.8/py/lib/python3.8/site-packages (from google-auth==1.18.0) (0.2.8)\nRequirement already satisfied: rsa<5,>=3.1.4 in /shared-libs/python3.8/py/lib/python3.8/site-packages (from google-auth==1.18.0) (4.9)\nRequirement already satisfied: httplib2<1dev,>=0.9.2 in /root/venv/lib/python3.8/site-packages (from google-api-python-client==1.8.0) (0.22.0)\nRequirement already satisfied: google-auth-httplib2>=0.0.3 in /root/venv/lib/python3.8/site-packages (from google-api-python-client==1.8.0) (0.1.0)\nRequirement already satisfied: uritemplate<4dev,>=3.0.0 in /root/venv/lib/python3.8/site-packages (from google-api-python-client==1.8.0) (3.0.1)\nRequirement already satisfied: pyparsing!=3.0.0,!=3.0.1,!=3.0.2,!=3.0.3,<4,>=2.4.2 in /shared-libs/python3.8/py-core/lib/python3.8/site-packages (from httplib2<1dev,>=0.9.2->google-api-python-client==1.8.0) (3.0.9)\nRequirement already satisfied: pyasn1<0.5.0,>=0.4.6 in /shared-libs/python3.8/py/lib/python3.8/site-packages (from pyasn1-modules>=0.2.1->google-auth==1.18.0) (0.4.8)\nRequirement already satisfied: charset-normalizer<3,>=2 in /shared-libs/python3.8/py-core/lib/python3.8/site-packages (from requests<3.0.0dev,>=2.18.0->google-api-core==1.21.0) (2.1.1)\nRequirement already satisfied: idna<4,>=2.5 in /shared-libs/python3.8/py-core/lib/python3.8/site-packages (from requests<3.0.0dev,>=2.18.0->google-api-core==1.21.0) (3.4)\nRequirement already satisfied: urllib3<1.27,>=1.21.1 in /shared-libs/python3.8/py/lib/python3.8/site-packages (from requests<3.0.0dev,>=2.18.0->google-api-core==1.21.0) (1.26.12)\nRequirement already satisfied: certifi>=2017.4.17 in /shared-libs/python3.8/py/lib/python3.8/site-packages (from requests<3.0.0dev,>=2.18.0->google-api-core==1.21.0) (2022.9.24)\n",
          "output_type": "stream"
        }
      ],
      "execution_count": null,
      "block_group": "298e5c93fa3145a4b97d15710061c5b0"
    },
    {
      "cell_type": "code",
      "source": "#!pip3 install cirq-core==0.13.1 cirq-google==0.13.1 sympy==1.8 numpy==1.19.5 nbformat==4.4.0 pylint==2.4.4 yapf==0.28.0 tensorflow==2.7.0 googleapis-common-protos==1.52.0 google-api-core==1.21.0 google-auth==1.18.0 google-api-python-client==1.8.0 grpcio==1.34.1 protobuf==3.17.3 ",
      "metadata": {
        "source_hash": null,
        "execution_start": 1692718865596,
        "execution_millis": 44,
        "deepnote_to_be_reexecuted": false,
        "cell_id": "a6ed6f5b92264eda86acda1ac6d2a2c1",
        "deepnote_cell_type": "code"
      },
      "outputs": [],
      "execution_count": null,
      "block_group": "9d6c0724ebc943ceb946db5f1f158291"
    },
    {
      "cell_type": "code",
      "source": "# Update package resources to account for version changes.\nimport importlib, pkg_resources\nimportlib.reload(pkg_resources)",
      "metadata": {
        "source_hash": null,
        "execution_start": 1692718865701,
        "execution_millis": 531,
        "deepnote_to_be_reexecuted": false,
        "cell_id": "a5620d39c7a349088fafdb4e4360bfd3",
        "deepnote_cell_type": "code"
      },
      "outputs": [
        {
          "output_type": "execute_result",
          "execution_count": 4,
          "data": {
            "text/plain": "<module 'pkg_resources' from '/root/venv/lib/python3.8/site-packages/pkg_resources/__init__.py'>"
          },
          "metadata": {}
        }
      ],
      "execution_count": null,
      "block_group": "6b6133a86d9d437f9d530d7bf25e35ec"
    },
    {
      "cell_type": "code",
      "source": "import tensorflow as tf\nimport tensorflow_quantum as tfq\n\nimport cirq\nimport sympy\nimport numpy as np\nimport seaborn as sns\nimport collections\n\n# visualization tools\n%matplotlib inline\nimport matplotlib.pyplot as plt\nfrom cirq.contrib.svg import SVGCircuit\n",
      "metadata": {
        "source_hash": null,
        "execution_start": 1692718866236,
        "execution_millis": 8992,
        "deepnote_to_be_reexecuted": false,
        "cell_id": "930a7c61ef4c4434915180e7cf6fb5a5",
        "deepnote_cell_type": "code"
      },
      "outputs": [
        {
          "name": "stderr",
          "text": "2023-08-22 15:41:06.460296: W tensorflow/stream_executor/platform/default/dso_loader.cc:64] Could not load dynamic library 'libcudart.so.11.0'; dlerror: libcudart.so.11.0: cannot open shared object file: No such file or directory\n2023-08-22 15:41:06.460345: I tensorflow/stream_executor/cuda/cudart_stub.cc:29] Ignore above cudart dlerror if you do not have a GPU set up on your machine.\n2023-08-22 15:41:14.625410: W tensorflow/stream_executor/platform/default/dso_loader.cc:64] Could not load dynamic library 'libcuda.so.1'; dlerror: libcuda.so.1: cannot open shared object file: No such file or directory\n2023-08-22 15:41:14.625457: W tensorflow/stream_executor/cuda/cuda_driver.cc:269] failed call to cuInit: UNKNOWN ERROR (303)\n2023-08-22 15:41:14.625481: I tensorflow/stream_executor/cuda/cuda_diagnostics.cc:156] kernel driver does not appear to be running on this host (p-4029068e-263e-4c12-9932-d3ac72036324): /proc/driver/nvidia/version does not exist\n2023-08-22 15:41:14.627202: I tensorflow/core/platform/cpu_feature_guard.cc:151] This TensorFlow binary is optimized with oneAPI Deep Neural Network Library (oneDNN) to use the following CPU instructions in performance-critical operations:  AVX2 FMA\nTo enable them in other operations, rebuild TensorFlow with the appropriate compiler flags.\n",
          "output_type": "stream"
        }
      ],
      "execution_count": null,
      "block_group": "575111aa5b4b4c76a4dbe211e065c27f"
    },
    {
      "cell_type": "code",
      "source": "(x_train, y_train), (x_test, y_test) = tf.keras.datasets.mnist.load_data()\n\n# Rescale the images from [0,255] to the [0.0,1.0] range.\nx_train, x_test = x_train[..., np.newaxis]/255.0, x_test[..., np.newaxis]/255.0\n\nprint(\"Number of original training examples:\", len(x_train))\nprint(\"Number of original test examples:\", len(x_test))\n",
      "metadata": {
        "source_hash": null,
        "execution_start": 1692718875115,
        "execution_millis": 880,
        "deepnote_to_be_reexecuted": false,
        "cell_id": "f5b62620f5dd49baab036f23f2324e9d",
        "deepnote_cell_type": "code"
      },
      "outputs": [
        {
          "name": "stdout",
          "text": "Downloading data from https://storage.googleapis.com/tensorflow/tf-keras-datasets/mnist.npz\n11493376/11490434 [==============================] - 0s 0us/step\n11501568/11490434 [==============================] - 0s 0us/step\nNumber of original training examples: 60000\nNumber of original test examples: 10000\n",
          "output_type": "stream"
        }
      ],
      "execution_count": null,
      "block_group": "cda06a54301c4a5cbf98bf0d5da2d6fb"
    },
    {
      "cell_type": "code",
      "source": "def filter_48(x, y):\n    keep = (y == 4) | (y == 8)\n    x, y = x[keep], y[keep]\n    y = y == 4\n    return x,y\n",
      "metadata": {
        "source_hash": null,
        "execution_start": 1692718876000,
        "execution_millis": 26,
        "deepnote_to_be_reexecuted": false,
        "cell_id": "eaf4a2672a9547ad8d512726577b38b2",
        "deepnote_cell_type": "code"
      },
      "outputs": [],
      "execution_count": null,
      "block_group": "1799da4bcce141fbaf074596bdd27fe8"
    },
    {
      "cell_type": "code",
      "source": "x_train, y_train = filter_48(x_train, y_train)\nx_test, y_test = filter_48(x_test, y_test)\n\nprint(\"Number of filtered training examples:\", len(x_train))\nprint(\"Number of filtered test examples:\", len(x_test))\n",
      "metadata": {
        "source_hash": null,
        "execution_start": 1692718876024,
        "execution_millis": 49,
        "deepnote_to_be_reexecuted": false,
        "cell_id": "b0ca3bcd1c434fb9ab8f949a5a43fca2",
        "deepnote_cell_type": "code"
      },
      "outputs": [
        {
          "name": "stdout",
          "text": "Number of filtered training examples: 11693\nNumber of filtered test examples: 1956\n",
          "output_type": "stream"
        }
      ],
      "execution_count": null,
      "block_group": "71d5cc1af24a448182b28236f8e7ddc9"
    },
    {
      "cell_type": "code",
      "source": "print(y_train[0])\n\nplt.imshow(x_train[0, :, :, 0])\nplt.colorbar()\n",
      "metadata": {
        "source_hash": null,
        "execution_start": 1692718876115,
        "execution_millis": 18,
        "deepnote_to_be_reexecuted": false,
        "cell_id": "95c6158021974831b5c02b1ca6616965",
        "deepnote_cell_type": "code"
      },
      "outputs": [
        {
          "name": "stdout",
          "text": "True\n",
          "output_type": "stream"
        },
        {
          "output_type": "execute_result",
          "execution_count": 9,
          "data": {
            "text/plain": "<matplotlib.colorbar.Colorbar at 0x7f030410bcd0>"
          },
          "metadata": {}
        },
        {
          "data": {
            "text/plain": "<Figure size 640x480 with 2 Axes>",
            "image/png": "[encoded data removed]"
          },
          "metadata": {
            "image/png": {
              "width": 491,
              "height": 418
            }
          },
          "output_type": "display_data"
        }
      ],
      "execution_count": null,
      "block_group": "b27aaab8e7b44f4ca446817345b84e85"
    },
    {
      "cell_type": "code",
      "source": "x_train_small = tf.image.resize(x_train, (4,4)).numpy()\nx_test_small = tf.image.resize(x_test, (4,4)).numpy()",
      "metadata": {
        "source_hash": null,
        "execution_start": 1692718876613,
        "execution_millis": 68,
        "deepnote_to_be_reexecuted": false,
        "cell_id": "82d34c9625fc4171b569c5749644c464",
        "deepnote_cell_type": "code"
      },
      "outputs": [],
      "execution_count": null,
      "block_group": "f6f4fa79739e4bf7be9f0c986f8bccda"
    },
    {
      "cell_type": "code",
      "source": "print(y_train[0])\n\nplt.imshow(x_train_small[0,:,:,0], vmin=0, vmax=1)\nplt.colorbar()\n",
      "metadata": {
        "source_hash": null,
        "execution_start": 1692718876663,
        "execution_millis": 50,
        "deepnote_to_be_reexecuted": false,
        "cell_id": "ba1645b827d84794bf02990341d64644",
        "deepnote_cell_type": "code"
      },
      "outputs": [
        {
          "name": "stdout",
          "text": "True\n",
          "output_type": "stream"
        },
        {
          "output_type": "execute_result",
          "execution_count": 11,
          "data": {
            "text/plain": "<matplotlib.colorbar.Colorbar at 0x7f02e4c92610>"
          },
          "metadata": {}
        },
        {
          "data": {
            "text/plain": "<Figure size 640x480 with 2 Axes>",
            "image/png": "[encoded data removed]"
          },
          "metadata": {
            "image/png": {
              "width": 507,
              "height": 418
            }
          },
          "output_type": "display_data"
        }
      ],
      "execution_count": null,
      "block_group": "6e63f6783395424d8d0341b73419b935"
    },
    {
      "cell_type": "code",
      "source": "def remove_contradicting(xs, ys):\n    mapping = collections.defaultdict(set)\n    orig_x = {}\n    # Determine the set of labels for each unique image:\n    for x,y in zip(xs,ys):\n        orig_x[tuple(x.flatten())] = x\n        mapping[tuple(x.flatten())].add(y)\n\n    new_x = []\n    new_y = []\n    for flatten_x in mapping:\n        x = orig_x[flatten_x]\n        labels = mapping[flatten_x]\n        if len(labels) == 1:\n            new_x.append(x)\n            new_y.append(next(iter(labels)))\n        else:\n            # Throw out images that match more than one label.\n            pass\n\n    num_uniq_4 = sum(1 for value in mapping.values() if len(value) == 1 and True in value)\n    num_uniq_8 = sum(1 for value in mapping.values() if len(value) == 1 and False in value)\n    num_uniq_both = sum(1 for value in mapping.values() if len(value) == 2)\n\n    print(\"Number of unique images:\", len(mapping.values()))\n    print(\"Number of unique 3s: \", num_uniq_4)\n    print(\"Number of unique 6s: \", num_uniq_8)\n    print(\"Number of unique contradicting labels (both 4 and 8): \", num_uniq_both)\n    print()\n    print(\"Initial number of images: \", len(xs))\n    print(\"Remaining non-contradicting unique images: \", len(new_x))\n\n    return np.array(new_x), np.array(new_y)\n",
      "metadata": {
        "source_hash": null,
        "execution_start": 1692718877125,
        "execution_millis": 304,
        "deepnote_to_be_reexecuted": false,
        "cell_id": "78299c0193ea46238815f0bb56cac569",
        "deepnote_cell_type": "code"
      },
      "outputs": [],
      "execution_count": null,
      "block_group": "fa7ad8d0d3ae4cfaa7a518f73fd2a0dc"
    },
    {
      "cell_type": "code",
      "source": "x_train_nocon, y_train_nocon = remove_contradicting(x_train_small, y_train)",
      "metadata": {
        "source_hash": null,
        "execution_start": 1692718877126,
        "execution_millis": 173,
        "deepnote_to_be_reexecuted": false,
        "cell_id": "ec6edbd45aab44c893d32d796908128a",
        "deepnote_cell_type": "code"
      },
      "outputs": [
        {
          "name": "stdout",
          "text": "Number of unique images: 10964\nNumber of unique 3s:  5320\nNumber of unique 6s:  5508\nNumber of unique contradicting labels (both 4 and 8):  136\n\nInitial number of images:  11693\nRemaining non-contradicting unique images:  10828\n",
          "output_type": "stream"
        }
      ],
      "execution_count": null,
      "block_group": "f5f168983c064413af1443921cbcb693"
    },
    {
      "cell_type": "code",
      "source": "THRESHOLD = 0.5\n\nx_train_bin = np.array(x_train_nocon > THRESHOLD, dtype=np.float32)\nx_test_bin = np.array(x_test_small > THRESHOLD, dtype=np.float32)",
      "metadata": {
        "source_hash": null,
        "execution_start": 1692718877287,
        "execution_millis": 19,
        "deepnote_to_be_reexecuted": false,
        "cell_id": "d2260768aad447818aab3d0176407e73",
        "deepnote_cell_type": "code"
      },
      "outputs": [],
      "execution_count": null,
      "block_group": "4a6d476483604e12860f7d093cef77bc"
    },
    {
      "cell_type": "code",
      "source": "_ = remove_contradicting(x_train_bin, y_train_nocon)",
      "metadata": {
        "source_hash": null,
        "execution_start": 1692718877349,
        "execution_millis": 96,
        "deepnote_to_be_reexecuted": false,
        "cell_id": "0a2bbb5bee4c4c1fae1a16eff8981921",
        "deepnote_cell_type": "code"
      },
      "outputs": [
        {
          "name": "stdout",
          "text": "Number of unique images: 165\nNumber of unique 3s:  33\nNumber of unique 6s:  57\nNumber of unique contradicting labels (both 4 and 8):  75\n\nInitial number of images:  10828\nRemaining non-contradicting unique images:  90\n",
          "output_type": "stream"
        }
      ],
      "execution_count": null,
      "block_group": "0a2bbb5bee4c4c1fae1a16eff8981921"
    },
    {
      "cell_type": "code",
      "source": "def convert_to_circuit(image):\n    \"\"\"Encode truncated classical image into quantum datapoint.\"\"\"\n    values = np.ndarray.flatten(image)\n    qubits = cirq.GridQubit.rect(4, 4)\n    circuit = cirq.Circuit()\n    for i, value in enumerate(values):\n        if value:\n            circuit.append(cirq.X(qubits[i]))\n    return circuit\n\n\nx_train_circ = [convert_to_circuit(x) for x in x_train_bin]\nx_test_circ = [convert_to_circuit(x) for x in x_test_bin]",
      "metadata": {
        "source_hash": null,
        "execution_start": 1692718877442,
        "execution_millis": 3494,
        "deepnote_to_be_reexecuted": false,
        "cell_id": "6140f873d35a49c5b40fec0733c8ceeb",
        "deepnote_cell_type": "code"
      },
      "outputs": [],
      "execution_count": null,
      "block_group": "6140f873d35a49c5b40fec0733c8ceeb"
    },
    {
      "cell_type": "code",
      "source": "SVGCircuit(x_train_circ[0])",
      "metadata": {
        "source_hash": null,
        "execution_start": 1692718880928,
        "execution_millis": 68,
        "deepnote_to_be_reexecuted": false,
        "cell_id": "438a138783164b6f8f3d5c25c34bffef",
        "deepnote_cell_type": "code"
      },
      "outputs": [
        {
          "name": "stderr",
          "text": "findfont: Font family 'Arial' not found.\nfindfont: Font family 'Arial' not found.\n",
          "output_type": "stream"
        },
        {
          "output_type": "execute_result",
          "execution_count": 17,
          "data": {
            "text/plain": "<cirq.contrib.svg.svg.SVGCircuit at 0x7f02e4c2e220>",
            "image/svg+xml": "<svg xmlns=\"http://www.w3.org/2000/svg\" width=\"169.517734375\" height=\"50.0\"><line x1=\"34.7588671875\" x2=\"139.517734375\" y1=\"25.0\" y2=\"25.0\" stroke=\"#1967d2\" stroke-width=\"1\" /><rect x=\"10.0\" y=\"5.0\" width=\"49.517734375\" height=\"40\" stroke=\"black\" fill=\"white\" stroke-width=\"0\" /><text x=\"34.7588671875\" y=\"25.0\" dominant-baseline=\"middle\" text-anchor=\"middle\" font-size=\"14px\" font-family=\"Arial\">(2, 2): </text><rect x=\"79.517734375\" y=\"5.0\" width=\"40\" height=\"40\" stroke=\"black\" fill=\"white\" stroke-width=\"1\" /><text x=\"99.517734375\" y=\"25.0\" dominant-baseline=\"middle\" text-anchor=\"middle\" font-size=\"18px\" font-family=\"Arial\">X</text></svg>"
          },
          "metadata": {}
        }
      ],
      "execution_count": null,
      "block_group": "438a138783164b6f8f3d5c25c34bffef"
    },
    {
      "cell_type": "code",
      "source": "SVGCircuit(x_train_circ[0])",
      "metadata": {
        "source_hash": null,
        "execution_start": 1692718881041,
        "execution_millis": 11,
        "deepnote_to_be_reexecuted": false,
        "cell_id": "63a10ff8e9414fa28ccc210a9dc30575",
        "deepnote_cell_type": "code"
      },
      "outputs": [
        {
          "name": "stderr",
          "text": "findfont: Font family 'Arial' not found.\nfindfont: Font family 'Arial' not found.\n",
          "output_type": "stream"
        },
        {
          "output_type": "execute_result",
          "execution_count": 18,
          "data": {
            "text/plain": "<cirq.contrib.svg.svg.SVGCircuit at 0x7f02e4c2e250>",
            "image/svg+xml": "<svg xmlns=\"http://www.w3.org/2000/svg\" width=\"169.517734375\" height=\"50.0\"><line x1=\"34.7588671875\" x2=\"139.517734375\" y1=\"25.0\" y2=\"25.0\" stroke=\"#1967d2\" stroke-width=\"1\" /><rect x=\"10.0\" y=\"5.0\" width=\"49.517734375\" height=\"40\" stroke=\"black\" fill=\"white\" stroke-width=\"0\" /><text x=\"34.7588671875\" y=\"25.0\" dominant-baseline=\"middle\" text-anchor=\"middle\" font-size=\"14px\" font-family=\"Arial\">(2, 2): </text><rect x=\"79.517734375\" y=\"5.0\" width=\"40\" height=\"40\" stroke=\"black\" fill=\"white\" stroke-width=\"1\" /><text x=\"99.517734375\" y=\"25.0\" dominant-baseline=\"middle\" text-anchor=\"middle\" font-size=\"18px\" font-family=\"Arial\">X</text></svg>"
          },
          "metadata": {}
        }
      ],
      "execution_count": null,
      "block_group": "63a10ff8e9414fa28ccc210a9dc30575"
    },
    {
      "cell_type": "code",
      "source": "bin_img = x_train_bin[0,:,:,0]\nindices = np.array(np.where(bin_img)).T\nindices",
      "metadata": {
        "source_hash": null,
        "execution_start": 1692718881042,
        "execution_millis": 9,
        "deepnote_to_be_reexecuted": false,
        "cell_id": "4efb4ff0aebc46fd9df3ff778c1f37e2",
        "deepnote_cell_type": "code"
      },
      "outputs": [
        {
          "output_type": "execute_result",
          "execution_count": 19,
          "data": {
            "text/plain": "array([[2, 2]])"
          },
          "metadata": {}
        }
      ],
      "execution_count": null,
      "block_group": "4efb4ff0aebc46fd9df3ff778c1f37e2"
    },
    {
      "cell_type": "code",
      "source": "x_train_tfcirc = tfq.convert_to_tensor(x_train_circ)\nx_test_tfcirc = tfq.convert_to_tensor(x_test_circ)",
      "metadata": {
        "source_hash": null,
        "execution_start": 1692718881085,
        "execution_millis": 8648,
        "deepnote_to_be_reexecuted": false,
        "cell_id": "ffb04c85f42a427b90081b83b48c80c5",
        "deepnote_cell_type": "code"
      },
      "outputs": [],
      "execution_count": null,
      "block_group": "ffb04c85f42a427b90081b83b48c80c5"
    },
    {
      "cell_type": "code",
      "source": "class CircuitLayerBuilder():\n    def __init__(self, data_qubits, readout):\n        self.data_qubits = data_qubits\n        self.readout = readout\n\n    def add_layer(self, circuit, gate, prefix):\n        for i, qubit in enumerate(self.data_qubits):\n            symbol = sympy.Symbol(prefix + '-' + str(i))\n            circuit.append(gate(qubit, self.readout)**symbol)",
      "metadata": {
        "source_hash": null,
        "execution_start": 1692718889727,
        "execution_millis": 14,
        "deepnote_to_be_reexecuted": false,
        "cell_id": "88d9d5dc3d504e0b9b8ab69beaafc668",
        "deepnote_cell_type": "code"
      },
      "outputs": [],
      "execution_count": null,
      "block_group": "88d9d5dc3d504e0b9b8ab69beaafc668"
    },
    {
      "cell_type": "code",
      "source": "demo_builder = CircuitLayerBuilder(data_qubits = cirq.GridQubit.rect(4,1),\n                                   readout=cirq.GridQubit(-1,-1))\n\ncircuit = cirq.Circuit()\ndemo_builder.add_layer(circuit, gate = cirq.XX, prefix='xx')\nSVGCircuit(circuit)",
      "metadata": {
        "source_hash": null,
        "execution_start": 1692718889777,
        "execution_millis": 250,
        "deepnote_to_be_reexecuted": false,
        "cell_id": "f8305420e14d48558fb014fe8ef7b4e6",
        "deepnote_cell_type": "code"
      },
      "outputs": [
        {
          "name": "stderr",
          "text": "findfont: Font family 'Arial' not found.\nfindfont: Font family 'Arial' not found.\nfindfont: Font family 'Arial' not found.\nfindfont: Font family 'Arial' not found.\nfindfont: Font family 'Arial' not found.\nfindfont: Font family 'Arial' not found.\nfindfont: Font family 'Arial' not found.\nfindfont: Font family 'Arial' not found.\nfindfont: Font family 'Arial' not found.\nfindfont: Font family 'Arial' not found.\nfindfont: Font family 'Arial' not found.\nfindfont: Font family 'Arial' not found.\nfindfont: Font family 'Arial' not found.\n",
          "output_type": "stream"
        },
        {
          "output_type": "execute_result",
          "execution_count": 22,
          "data": {
            "text/plain": "<cirq.contrib.svg.svg.SVGCircuit at 0x7f02dcc984c0>",
            "image/svg+xml": "<svg xmlns=\"http://www.w3.org/2000/svg\" width=\"522.59953125\" height=\"250.0\"><line x1=\"39.810625\" x2=\"492.59953125000004\" y1=\"25.0\" y2=\"25.0\" stroke=\"#1967d2\" stroke-width=\"1\" /><line x1=\"39.810625\" x2=\"492.59953125000004\" y1=\"75.0\" y2=\"75.0\" stroke=\"#1967d2\" stroke-width=\"1\" /><line x1=\"39.810625\" x2=\"492.59953125000004\" y1=\"125.0\" y2=\"125.0\" stroke=\"#1967d2\" stroke-width=\"1\" /><line x1=\"39.810625\" x2=\"492.59953125000004\" y1=\"175.0\" y2=\"175.0\" stroke=\"#1967d2\" stroke-width=\"1\" /><line x1=\"39.810625\" x2=\"492.59953125000004\" y1=\"225.0\" y2=\"225.0\" stroke=\"#1967d2\" stroke-width=\"1\" /><line x1=\"129.99353515625\" x2=\"129.99353515625\" y1=\"25.0\" y2=\"75.0\" stroke=\"black\" stroke-width=\"3\" /><line x1=\"230.73810546875004\" x2=\"230.73810546875004\" y1=\"25.0\" y2=\"125.0\" stroke=\"black\" stroke-width=\"3\" /><line x1=\"331.48267578125007\" x2=\"331.48267578125007\" y1=\"25.0\" y2=\"175.0\" stroke=\"black\" stroke-width=\"3\" /><line x1=\"432.22724609375007\" x2=\"432.22724609375007\" y1=\"25.0\" y2=\"225.0\" stroke=\"black\" stroke-width=\"3\" /><rect x=\"10.0\" y=\"5.0\" width=\"59.62125\" height=\"40\" stroke=\"black\" fill=\"white\" stroke-width=\"0\" /><text x=\"39.810625\" y=\"25.0\" dominant-baseline=\"middle\" text-anchor=\"middle\" font-size=\"14px\" font-family=\"Arial\">(-1, -1): </text><rect x=\"10.0\" y=\"55.0\" width=\"59.62125\" height=\"40\" stroke=\"black\" fill=\"white\" stroke-width=\"0\" /><text x=\"39.810625\" y=\"75.0\" dominant-baseline=\"middle\" text-anchor=\"middle\" font-size=\"14px\" font-family=\"Arial\">(0, 0): </text><rect x=\"10.0\" y=\"105.0\" width=\"59.62125\" height=\"40\" stroke=\"black\" fill=\"white\" stroke-width=\"0\" /><text x=\"39.810625\" y=\"125.0\" dominant-baseline=\"middle\" text-anchor=\"middle\" font-size=\"14px\" font-family=\"Arial\">(1, 0): </text><rect x=\"10.0\" y=\"155.0\" width=\"59.62125\" height=\"40\" stroke=\"black\" fill=\"white\" stroke-width=\"0\" /><text x=\"39.810625\" y=\"175.0\" dominant-baseline=\"middle\" text-anchor=\"middle\" font-size=\"14px\" font-family=\"Arial\">(2, 0): </text><rect x=\"10.0\" y=\"205.0\" width=\"59.62125\" height=\"40\" stroke=\"black\" fill=\"white\" stroke-width=\"0\" /><text x=\"39.810625\" y=\"225.0\" dominant-baseline=\"middle\" text-anchor=\"middle\" font-size=\"14px\" font-family=\"Arial\">(3, 0): </text><rect x=\"89.62125\" y=\"55.0\" width=\"80.74457031250002\" height=\"40\" stroke=\"black\" fill=\"white\" stroke-width=\"1\" /><text x=\"129.99353515625\" y=\"75.0\" dominant-baseline=\"middle\" text-anchor=\"middle\" font-size=\"14px\" font-family=\"Arial\">XX^(xx-0)</text><rect x=\"89.62125\" y=\"5.0\" width=\"80.74457031250002\" height=\"40\" stroke=\"black\" fill=\"white\" stroke-width=\"1\" /><text x=\"129.99353515625\" y=\"25.0\" dominant-baseline=\"middle\" text-anchor=\"middle\" font-size=\"14px\" font-family=\"Arial\">XX</text><rect x=\"190.36582031250003\" y=\"105.0\" width=\"80.74457031250002\" height=\"40\" stroke=\"black\" fill=\"white\" stroke-width=\"1\" /><text x=\"230.73810546875004\" y=\"125.0\" dominant-baseline=\"middle\" text-anchor=\"middle\" font-size=\"14px\" font-family=\"Arial\">XX^(xx-1)</text><rect x=\"190.36582031250003\" y=\"5.0\" width=\"80.74457031250002\" height=\"40\" stroke=\"black\" fill=\"white\" stroke-width=\"1\" /><text x=\"230.73810546875004\" y=\"25.0\" dominant-baseline=\"middle\" text-anchor=\"middle\" font-size=\"14px\" font-family=\"Arial\">XX</text><rect x=\"291.11039062500004\" y=\"155.0\" width=\"80.74457031250002\" height=\"40\" stroke=\"black\" fill=\"white\" stroke-width=\"1\" /><text x=\"331.48267578125007\" y=\"175.0\" dominant-baseline=\"middle\" text-anchor=\"middle\" font-size=\"14px\" font-family=\"Arial\">XX^(xx-2)</text><rect x=\"291.11039062500004\" y=\"5.0\" width=\"80.74457031250002\" height=\"40\" stroke=\"black\" fill=\"white\" stroke-width=\"1\" /><text x=\"331.48267578125007\" y=\"25.0\" dominant-baseline=\"middle\" text-anchor=\"middle\" font-size=\"14px\" font-family=\"Arial\">XX</text><rect x=\"391.85496093750004\" y=\"205.0\" width=\"80.74457031250002\" height=\"40\" stroke=\"black\" fill=\"white\" stroke-width=\"1\" /><text x=\"432.22724609375007\" y=\"225.0\" dominant-baseline=\"middle\" text-anchor=\"middle\" font-size=\"14px\" font-family=\"Arial\">XX^(xx-3)</text><rect x=\"391.85496093750004\" y=\"5.0\" width=\"80.74457031250002\" height=\"40\" stroke=\"black\" fill=\"white\" stroke-width=\"1\" /><text x=\"432.22724609375007\" y=\"25.0\" dominant-baseline=\"middle\" text-anchor=\"middle\" font-size=\"14px\" font-family=\"Arial\">XX</text></svg>"
          },
          "metadata": {}
        }
      ],
      "execution_count": null,
      "block_group": "f8305420e14d48558fb014fe8ef7b4e6"
    },
    {
      "cell_type": "code",
      "source": "def create_quantum_model():\n    \"\"\"Create a QNN model circuit and readout operation to go along with it.\"\"\"\n    data_qubits = cirq.GridQubit.rect(4, 4)  # a 4x4 grid.\n    readout = cirq.GridQubit(-1, -1)         # a single qubit at [-1,-1]\n    circuit = cirq.Circuit()\n\n    # Prepare the readout qubit.\n    circuit.append(cirq.X(readout))\n    circuit.append(cirq.H(readout))\n\n    builder = CircuitLayerBuilder(\n        data_qubits = data_qubits,\n        readout=readout)\n\n    # Then add layers (experiment by adding more).\n    builder.add_layer(circuit, cirq.XX, \"xx1\")\n    builder.add_layer(circuit, cirq.ZZ, \"zz1\")\n\n    # Finally, prepare the readout qubit.\n    circuit.append(cirq.H(readout))\n\n    return circuit, cirq.Z(readout)\n",
      "metadata": {
        "source_hash": null,
        "execution_start": 1692718889912,
        "execution_millis": 10,
        "deepnote_to_be_reexecuted": false,
        "cell_id": "879b7de787ab4b77946df12a5811da8f",
        "deepnote_cell_type": "code"
      },
      "outputs": [],
      "execution_count": null,
      "block_group": "879b7de787ab4b77946df12a5811da8f"
    },
    {
      "cell_type": "code",
      "source": "model_circuit, model_readout = create_quantum_model()",
      "metadata": {
        "source_hash": null,
        "execution_start": 1692718889974,
        "execution_millis": 13,
        "deepnote_to_be_reexecuted": false,
        "cell_id": "875a6b3fda7d42e3975fc2a68ef2b0d9",
        "deepnote_cell_type": "code"
      },
      "outputs": [],
      "execution_count": null,
      "block_group": "875a6b3fda7d42e3975fc2a68ef2b0d9"
    },
    {
      "cell_type": "code",
      "source": "# Build the Keras model.\nmodel = tf.keras.Sequential([\n    # The input is the data-circuit, encoded as a tf.string\n    tf.keras.layers.Input(shape=(), dtype=tf.string),\n    # The PQC layer returns the expected value of the readout gate, range [-1,1].\n    tfq.layers.PQC(model_circuit, model_readout),\n])",
      "metadata": {
        "source_hash": null,
        "execution_start": 1692718889975,
        "execution_millis": 1260,
        "deepnote_to_be_reexecuted": false,
        "cell_id": "2804a12bdb524fe3b30573403d19e593",
        "deepnote_cell_type": "code"
      },
      "outputs": [],
      "execution_count": null,
      "block_group": "2804a12bdb524fe3b30573403d19e593"
    },
    {
      "cell_type": "code",
      "source": "y_train_hinge = 2.0*y_train_nocon-1.0\ny_test_hinge = 2.0*y_test-1.0",
      "metadata": {
        "source_hash": null,
        "execution_start": 1692718891223,
        "execution_millis": 14,
        "deepnote_to_be_reexecuted": false,
        "cell_id": "7cd22ee53b5b454e8b3e0d8e00ea0080",
        "deepnote_cell_type": "code"
      },
      "outputs": [],
      "execution_count": null,
      "block_group": "7cd22ee53b5b454e8b3e0d8e00ea0080"
    },
    {
      "cell_type": "code",
      "source": "def hinge_accuracy(y_true, y_pred):\n    y_true = tf.squeeze(y_true) > 0.0\n    y_pred = tf.squeeze(y_pred) > 0.0\n    result = tf.cast(y_true == y_pred, tf.float32)\n\n    return tf.reduce_mean(result)",
      "metadata": {
        "source_hash": null,
        "execution_start": 1692718891227,
        "execution_millis": 47,
        "deepnote_to_be_reexecuted": false,
        "cell_id": "17000c5db7ff4d7aa8db50b78fa95cd8",
        "deepnote_cell_type": "code"
      },
      "outputs": [],
      "execution_count": null,
      "block_group": "17000c5db7ff4d7aa8db50b78fa95cd8"
    },
    {
      "cell_type": "code",
      "source": "model.compile(\n    loss=tf.keras.losses.Hinge(),\n    optimizer=tf.keras.optimizers.Adam(),\n    metrics=[hinge_accuracy])\n",
      "metadata": {
        "source_hash": null,
        "execution_start": 1692718891270,
        "execution_millis": 4,
        "deepnote_to_be_reexecuted": false,
        "cell_id": "696f57b9f5c840f687d89e16471e4286",
        "deepnote_cell_type": "code"
      },
      "outputs": [],
      "execution_count": null,
      "block_group": "696f57b9f5c840f687d89e16471e4286"
    },
    {
      "cell_type": "code",
      "source": "print(model.summary())",
      "metadata": {
        "source_hash": null,
        "execution_start": 1692718891270,
        "execution_millis": 16,
        "deepnote_to_be_reexecuted": false,
        "cell_id": "b110b7968121428aab8c6da38d32931f",
        "deepnote_cell_type": "code"
      },
      "outputs": [
        {
          "name": "stdout",
          "text": "Model: \"sequential\"\n_________________________________________________________________\n Layer (type)                Output Shape              Param #   \n=================================================================\n pqc (PQC)                   (None, 1)                 32        \n                                                                 \n=================================================================\nTotal params: 32\nTrainable params: 32\nNon-trainable params: 0\n_________________________________________________________________\nNone\n",
          "output_type": "stream"
        }
      ],
      "execution_count": null,
      "block_group": "b110b7968121428aab8c6da38d32931f"
    },
    {
      "cell_type": "code",
      "source": "EPOCHS = 3\nBATCH_SIZE = 32\n\nNUM_EXAMPLES = len(x_train_tfcirc)",
      "metadata": {
        "source_hash": null,
        "execution_start": 1692718891314,
        "execution_millis": 13,
        "deepnote_to_be_reexecuted": false,
        "cell_id": "43ec6b62846c423c98f73a17022c363a",
        "deepnote_cell_type": "code"
      },
      "outputs": [],
      "execution_count": null,
      "block_group": "43ec6b62846c423c98f73a17022c363a"
    },
    {
      "cell_type": "code",
      "source": "x_train_tfcirc_sub = x_train_tfcirc[:NUM_EXAMPLES]\ny_train_hinge_sub = y_train_hinge[:NUM_EXAMPLES]",
      "metadata": {
        "source_hash": null,
        "execution_start": 1692718891315,
        "execution_millis": 25,
        "deepnote_to_be_reexecuted": false,
        "cell_id": "e7595f9f3187400c9d9384054cc98ebc",
        "deepnote_cell_type": "code"
      },
      "outputs": [],
      "execution_count": null,
      "block_group": "e7595f9f3187400c9d9384054cc98ebc"
    },
    {
      "cell_type": "code",
      "source": "qnn_history = model.fit(\n      x_train_tfcirc_sub, y_train_hinge_sub,\n      batch_size=32,\n      epochs=EPOCHS,\n      verbose=1,\n      validation_data=(x_test_tfcirc, y_test_hinge))\n\nqnn_results = model.evaluate(x_test_tfcirc, y_test)",
      "metadata": {
        "source_hash": null,
        "execution_start": 1692718891316,
        "execution_millis": 2546986,
        "deepnote_to_be_reexecuted": false,
        "cell_id": "a986398c643e440ea7f1829f4fcc45da",
        "deepnote_cell_type": "code"
      },
      "outputs": [
        {
          "name": "stdout",
          "text": "Epoch 1/3\n339/339 [==============================] - 844s 2s/step - loss: 0.9900 - hinge_accuracy: 0.5269 - val_loss: 0.9412 - val_hinge_accuracy: 0.5615\nEpoch 2/3\n339/339 [==============================] - 841s 2s/step - loss: 0.8509 - hinge_accuracy: 0.6091 - val_loss: 0.8572 - val_hinge_accuracy: 0.5953\nEpoch 3/3\n339/339 [==============================] - 838s 2s/step - loss: 0.7986 - hinge_accuracy: 0.6375 - val_loss: 0.8160 - val_hinge_accuracy: 0.6290\n62/62 [==============================] - 23s 372ms/step - loss: 0.8160 - hinge_accuracy: 0.6290\n",
          "output_type": "stream"
        }
      ],
      "execution_count": null,
      "block_group": "a986398c643e440ea7f1829f4fcc45da"
    },
    {
      "cell_type": "code",
      "source": "def create_classical_model():\n    # A simple model based off LeNet from https://keras.io/examples/mnist_cnn/\n    model = tf.keras.Sequential()\n    model.add(tf.keras.layers.Conv2D(32, [3, 3], activation='relu', input_shape=(28,28,1)))\n    model.add(tf.keras.layers.Conv2D(64, [3, 3], activation='relu'))\n    model.add(tf.keras.layers.MaxPooling2D(pool_size=(2, 2)))\n    model.add(tf.keras.layers.Dropout(0.25))\n    model.add(tf.keras.layers.Flatten())\n    model.add(tf.keras.layers.Dense(128, activation='relu'))\n    model.add(tf.keras.layers.Dropout(0.5))\n    model.add(tf.keras.layers.Dense(1))\n    return model\n\n\nmodel = create_classical_model()\nmodel.compile(loss=tf.keras.losses.BinaryCrossentropy(from_logits=True),\n              optimizer=tf.keras.optimizers.Adam(),\n              metrics=['accuracy'])\n\nmodel.summary()\n",
      "metadata": {
        "source_hash": null,
        "execution_start": 1692721438295,
        "execution_millis": 286,
        "deepnote_to_be_reexecuted": false,
        "cell_id": "a122e48ff39743cba3dbcd243a3abbf3",
        "deepnote_cell_type": "code"
      },
      "outputs": [
        {
          "name": "stdout",
          "text": "Model: \"sequential_1\"\n_________________________________________________________________\n Layer (type)                Output Shape              Param #   \n=================================================================\n conv2d (Conv2D)             (None, 26, 26, 32)        320       \n                                                                 \n conv2d_1 (Conv2D)           (None, 24, 24, 64)        18496     \n                                                                 \n max_pooling2d (MaxPooling2D  (None, 12, 12, 64)       0         \n )                                                               \n                                                                 \n dropout (Dropout)           (None, 12, 12, 64)        0         \n                                                                 \n flatten (Flatten)           (None, 9216)              0         \n                                                                 \n dense (Dense)               (None, 128)               1179776   \n                                                                 \n dropout_1 (Dropout)         (None, 128)               0         \n                                                                 \n dense_1 (Dense)             (None, 1)                 129       \n                                                                 \n=================================================================\nTotal params: 1,198,721\nTrainable params: 1,198,721\nNon-trainable params: 0\n_________________________________________________________________\n",
          "output_type": "stream"
        }
      ],
      "execution_count": null,
      "block_group": "a122e48ff39743cba3dbcd243a3abbf3"
    },
    {
      "cell_type": "code",
      "source": "model.fit(x_train,\n          y_train,\n          batch_size=128,\n          epochs=1,\n          verbose=1,\n          validation_data=(x_test, y_test))\n\ncnn_results = model.evaluate(x_test, y_test)",
      "metadata": {
        "source_hash": null,
        "execution_start": 1692721438408,
        "execution_millis": 33530,
        "deepnote_to_be_reexecuted": false,
        "cell_id": "95bfa4a3be5d47e28958cc23f89c9535",
        "deepnote_cell_type": "code"
      },
      "outputs": [
        {
          "name": "stdout",
          "text": "92/92 [==============================] - 32s 341ms/step - loss: 0.0617 - accuracy: 0.9705 - val_loss: 0.0135 - val_accuracy: 0.9964\n62/62 [==============================] - 2s 24ms/step - loss: 0.0135 - accuracy: 0.9964\n",
          "output_type": "stream"
        }
      ],
      "execution_count": null,
      "block_group": "95bfa4a3be5d47e28958cc23f89c9535"
    },
    {
      "cell_type": "code",
      "source": "def create_fair_classical_model():\n    # A simple model based off LeNet from https://keras.io/examples/mnist_cnn/\n    model = tf.keras.Sequential()\n    model.add(tf.keras.layers.Flatten(input_shape=(4,4,1)))\n    model.add(tf.keras.layers.Dense(2, activation='relu'))\n    model.add(tf.keras.layers.Dense(1))\n    return model\n\n\nmodel = create_fair_classical_model()\nmodel.compile(loss=tf.keras.losses.BinaryCrossentropy(from_logits=True),\n              optimizer=tf.keras.optimizers.Adam(),\n              metrics=['accuracy'])\n\nmodel.summary()\n",
      "metadata": {
        "source_hash": null,
        "execution_start": 1692721471973,
        "execution_millis": 58,
        "deepnote_to_be_reexecuted": false,
        "cell_id": "274ea1a4f4284395987472171b4dfbb4",
        "deepnote_cell_type": "code"
      },
      "outputs": [
        {
          "name": "stdout",
          "text": "Model: \"sequential_2\"\n_________________________________________________________________\n Layer (type)                Output Shape              Param #   \n=================================================================\n flatten_1 (Flatten)         (None, 16)                0         \n                                                                 \n dense_2 (Dense)             (None, 2)                 34        \n                                                                 \n dense_3 (Dense)             (None, 1)                 3         \n                                                                 \n=================================================================\nTotal params: 37\nTrainable params: 37\nNon-trainable params: 0\n_________________________________________________________________\n",
          "output_type": "stream"
        }
      ],
      "execution_count": null,
      "block_group": "274ea1a4f4284395987472171b4dfbb4"
    },
    {
      "cell_type": "code",
      "source": "model.fit(x_train_bin,\n          y_train_nocon,\n          batch_size=128,\n          epochs=20,\n          verbose=2,\n          validation_data=(x_test_bin, y_test))\n\nfair_nn_results = model.evaluate(x_test_bin, y_test)\n",
      "metadata": {
        "source_hash": null,
        "execution_start": 1692721472079,
        "execution_millis": 5872,
        "deepnote_to_be_reexecuted": false,
        "cell_id": "aec98146b73447b9b66cd53a7668c416",
        "deepnote_cell_type": "code"
      },
      "outputs": [
        {
          "name": "stdout",
          "text": "Epoch 1/20\n85/85 - 1s - loss: 0.6959 - accuracy: 0.5087 - val_loss: 0.7025 - val_accuracy: 0.4980 - 646ms/epoch - 8ms/step\nEpoch 2/20\n85/85 - 0s - loss: 0.6834 - accuracy: 0.5089 - val_loss: 0.6931 - val_accuracy: 0.5010 - 213ms/epoch - 3ms/step\nEpoch 3/20\n85/85 - 0s - loss: 0.6740 - accuracy: 0.5183 - val_loss: 0.6858 - val_accuracy: 0.5143 - 181ms/epoch - 2ms/step\nEpoch 4/20\n85/85 - 0s - loss: 0.6647 - accuracy: 0.5281 - val_loss: 0.6779 - val_accuracy: 0.5189 - 131ms/epoch - 2ms/step\nEpoch 5/20\n85/85 - 0s - loss: 0.6545 - accuracy: 0.5307 - val_loss: 0.6702 - val_accuracy: 0.5204 - 231ms/epoch - 3ms/step\nEpoch 6/20\n85/85 - 0s - loss: 0.6447 - accuracy: 0.5323 - val_loss: 0.6633 - val_accuracy: 0.5174 - 164ms/epoch - 2ms/step\nEpoch 7/20\n85/85 - 0s - loss: 0.6365 - accuracy: 0.5384 - val_loss: 0.6582 - val_accuracy: 0.5215 - 272ms/epoch - 3ms/step\nEpoch 8/20\n85/85 - 0s - loss: 0.6307 - accuracy: 0.5663 - val_loss: 0.6546 - val_accuracy: 0.5588 - 141ms/epoch - 2ms/step\nEpoch 9/20\n85/85 - 0s - loss: 0.6260 - accuracy: 0.5800 - val_loss: 0.6516 - val_accuracy: 0.5726 - 241ms/epoch - 3ms/step\nEpoch 10/20\n85/85 - 0s - loss: 0.6223 - accuracy: 0.5936 - val_loss: 0.6490 - val_accuracy: 0.5818 - 210ms/epoch - 2ms/step\nEpoch 11/20\n85/85 - 0s - loss: 0.6191 - accuracy: 0.5980 - val_loss: 0.6469 - val_accuracy: 0.5818 - 134ms/epoch - 2ms/step\nEpoch 12/20\n85/85 - 0s - loss: 0.6167 - accuracy: 0.6107 - val_loss: 0.6451 - val_accuracy: 0.5884 - 269ms/epoch - 3ms/step\nEpoch 13/20\n85/85 - 0s - loss: 0.6149 - accuracy: 0.6074 - val_loss: 0.6440 - val_accuracy: 0.5936 - 177ms/epoch - 2ms/step\nEpoch 14/20\n85/85 - 0s - loss: 0.6134 - accuracy: 0.6078 - val_loss: 0.6432 - val_accuracy: 0.5971 - 224ms/epoch - 3ms/step\nEpoch 15/20\n85/85 - 0s - loss: 0.6124 - accuracy: 0.6159 - val_loss: 0.6425 - val_accuracy: 0.6166 - 293ms/epoch - 3ms/step\nEpoch 16/20\n85/85 - 0s - loss: 0.6115 - accuracy: 0.6369 - val_loss: 0.6418 - val_accuracy: 0.6166 - 147ms/epoch - 2ms/step\nEpoch 17/20\n85/85 - 0s - loss: 0.6109 - accuracy: 0.6372 - val_loss: 0.6413 - val_accuracy: 0.6171 - 171ms/epoch - 2ms/step\nEpoch 18/20\n85/85 - 0s - loss: 0.6104 - accuracy: 0.6372 - val_loss: 0.6412 - val_accuracy: 0.6166 - 127ms/epoch - 1ms/step\nEpoch 19/20\n85/85 - 0s - loss: 0.6100 - accuracy: 0.6372 - val_loss: 0.6408 - val_accuracy: 0.6166 - 200ms/epoch - 2ms/step\nEpoch 20/20\n85/85 - 0s - loss: 0.6097 - accuracy: 0.6372 - val_loss: 0.6406 - val_accuracy: 0.6166 - 210ms/epoch - 2ms/step\n62/62 [==============================] - 0s 966us/step - loss: 0.6406 - accuracy: 0.6166\n",
          "output_type": "stream"
        }
      ],
      "execution_count": null,
      "block_group": "aec98146b73447b9b66cd53a7668c416"
    },
    {
      "cell_type": "code",
      "source": "qnn_accuracy = qnn_results[1]\ncnn_accuracy = cnn_results[1]\nfair_nn_accuracy = fair_nn_results[1]\n\nsns.barplot(x=[\"Quantum\", \"Classical, full\", \"Classical, fair\"],\n            y=[qnn_accuracy, cnn_accuracy, fair_nn_accuracy])\n",
      "metadata": {
        "source_hash": null,
        "execution_start": 1692721477783,
        "execution_millis": 14,
        "deepnote_to_be_reexecuted": false,
        "cell_id": "5076e5bb0f544fdca1d237c0305f00d2",
        "deepnote_cell_type": "code"
      },
      "outputs": [
        {
          "output_type": "execute_result",
          "execution_count": 37,
          "data": {
            "text/plain": "<AxesSubplot: >"
          },
          "metadata": {}
        },
        {
          "data": {
            "text/plain": "<Figure size 640x480 with 1 Axes>",
            "image/png": "[encoded data removed]"
          },
          "metadata": {
            "image/png": {
              "width": 547,
              "height": 413
            }
          },
          "output_type": "display_data"
        }
      ],
      "execution_count": null,
      "block_group": "5076e5bb0f544fdca1d237c0305f00d2"
    },
    {
      "cell_type": "code",
      "source": "time_points = [0, 1, 2, 3, 4, 5]\nqnn_accuracy = qnn_results[1]  # Assuming qnn_results contains [loss, accuracy] for each time point\ncnn_accuracy = cnn_results[1]  # Assuming cnn_results contains [loss, accuracy] for each time point\nfair_nn_accuracy = fair_nn_results[1]  # Assuming fair_nn_results contains [loss, accuracy] for each time point\n\n# Create a line plot\nsns.lineplot(x=time_points, y=qnn_accuracy, label='Quantum')\nsns.lineplot(x=time_points, y=cnn_accuracy, label='Classical, full')\nsns.lineplot(x=time_points, y=fair_nn_accuracy, label='Classical, fair')\n\n# Set plot labels and title\nplt.xlabel('Time or Epochs')\nplt.ylabel('Accuracy')\nplt.title('Accuracy Comparison Over Time/Epochs')\n\n# Add a legend\nplt.legend()\n\n# Show the plot\nplt.show()",
      "metadata": {
        "source_hash": null,
        "execution_start": 1692721478023,
        "execution_millis": 494,
        "deepnote_to_be_reexecuted": false,
        "cell_id": "51059a9eb1554bbca976f5766479056c",
        "deepnote_cell_type": "code"
      },
      "outputs": [
        {
          "data": {
            "text/plain": "<Figure size 640x480 with 1 Axes>",
            "image/png": "[encoded data removed]"
          },
          "metadata": {
            "image/png": {
              "width": 576,
              "height": 455
            }
          },
          "output_type": "display_data"
        }
      ],
      "execution_count": null,
      "block_group": "76e5384dee904788a11afa520ab04163"
    },
    {
      "cell_type": "code",
      "source": "",
      "metadata": {
        "source_hash": null,
        "execution_start": 1692721478411,
        "execution_millis": 20,
        "deepnote_to_be_reexecuted": false,
        "cell_id": "3f60f0a86bf843e3be6a1a655b10d89e",
        "deepnote_cell_type": "code"
      },
      "outputs": [],
      "execution_count": null,
      "block_group": "3f60f0a86bf843e3be6a1a655b10d89e"
    },
    {
      "cell_type": "markdown",
      "source": "<a style='text-decoration:none;line-height:16px;display:flex;color:#5B5B62;padding:10px;justify-content:end;' href='https://deepnote.com?utm_source=created-in-deepnote-cell&projectId=4029068e-263e-4c12-9932-d3ac72036324' target=\"_blank\">\n<img alt='Created in deepnote.com' style='display:inline;max-height:16px;margin:0px;margin-right:7.5px;' src='data:image/svg+xml;base64,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' > </img>\nCreated in <span style='font-weight:600;margin-left:4px;'>Deepnote</span></a>",
      "metadata": {
        "created_in_deepnote_cell": true,
        "deepnote_cell_type": "markdown"
      }
    }
  ],
  "nbformat": 4,
  "nbformat_minor": 0,
  "metadata": {
    "deepnote": {
      "is_reactive": false
    },
    "orig_nbformat": 2,
    "deepnote_full_width": false,
    "deepnote_notebook_id": "8be5edfa4fc841319f115c99bbba3352",
    "deepnote_execution_queue": []
  }
}